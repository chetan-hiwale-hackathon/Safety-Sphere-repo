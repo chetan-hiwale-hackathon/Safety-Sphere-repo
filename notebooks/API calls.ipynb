{
 "cells": [
  {
   "cell_type": "code",
   "execution_count": 1,
   "id": "382b29a6-e6ca-4cee-b592-0295cdeed4a6",
   "metadata": {
    "editable": true,
    "jupyter": {
     "outputs_hidden": false,
     "source_hidden": false
    },
    "microsoft": {
     "language": "python",
     "language_group": "synapse_pyspark"
    },
    "nteract": {
     "transient": {
      "deleting": false
     }
    },
    "run_control": {
     "frozen": false
    }
   },
   "outputs": [
    {
     "data": {
      "application/vnd.livy.statement-meta+json": {
       "execution_finish_time": "2024-11-11T07:16:21.5281587Z",
       "execution_start_time": "2024-11-11T07:16:08.6137902Z",
       "livy_statement_state": "available",
       "normalized_state": "finished",
       "parent_msg_id": "73136239-8c88-443e-82b8-6dfb95446881",
       "queued_time": "2024-11-11T07:15:52.5732537Z",
       "session_id": "96047386-8225-45d1-b92a-120e3cdd76fe",
       "session_start_time": "2024-11-11T07:15:53.017169Z",
       "spark_pool": null,
       "state": "finished",
       "statement_id": 3,
       "statement_ids": [
        3
       ]
      },
      "text/plain": [
       "StatementMeta(, 96047386-8225-45d1-b92a-120e3cdd76fe, 3, Finished, Available, Finished)"
      ]
     },
     "metadata": {},
     "output_type": "display_data"
    },
    {
     "name": "stdout",
     "output_type": "stream",
     "text": [
      "Collecting twilio\n",
      "  Downloading twilio-9.3.6-py2.py3-none-any.whl.metadata (12 kB)\n",
      "Requirement already satisfied: requests>=2.0.0 in /home/trusted-service-user/cluster-env/trident_env/lib/python3.11/site-packages (from twilio) (2.31.0)\n",
      "Requirement already satisfied: PyJWT<3.0.0,>=2.0.0 in /home/trusted-service-user/cluster-env/trident_env/lib/python3.11/site-packages (from twilio) (2.4.0)\n",
      "Requirement already satisfied: aiohttp>=3.8.4 in /home/trusted-service-user/cluster-env/trident_env/lib/python3.11/site-packages (from twilio) (3.9.3)\n",
      "Collecting aiohttp-retry>=2.8.3 (from twilio)\n",
      "  Downloading aiohttp_retry-2.9.1-py3-none-any.whl.metadata (8.8 kB)\n",
      "Requirement already satisfied: aiosignal>=1.1.2 in /home/trusted-service-user/cluster-env/trident_env/lib/python3.11/site-packages (from aiohttp>=3.8.4->twilio) (1.2.0)\n",
      "Requirement already satisfied: attrs>=17.3.0 in /home/trusted-service-user/cluster-env/trident_env/lib/python3.11/site-packages (from aiohttp>=3.8.4->twilio) (23.1.0)\n",
      "Requirement already satisfied: frozenlist>=1.1.1 in /home/trusted-service-user/cluster-env/trident_env/lib/python3.11/site-packages (from aiohttp>=3.8.4->twilio) (1.4.0)\n",
      "Requirement already satisfied: multidict<7.0,>=4.5 in /home/trusted-service-user/cluster-env/trident_env/lib/python3.11/site-packages (from aiohttp>=3.8.4->twilio) (6.0.4)\n",
      "Requirement already satisfied: yarl<2.0,>=1.0 in /home/trusted-service-user/cluster-env/trident_env/lib/python3.11/site-packages (from aiohttp>=3.8.4->twilio) (1.9.3)\n",
      "Requirement already satisfied: charset-normalizer<4,>=2 in /home/trusted-service-user/cluster-env/trident_env/lib/python3.11/site-packages (from requests>=2.0.0->twilio) (2.0.4)\n",
      "Requirement already satisfied: idna<4,>=2.5 in /home/trusted-service-user/cluster-env/trident_env/lib/python3.11/site-packages (from requests>=2.0.0->twilio) (3.4)\n",
      "Requirement already satisfied: urllib3<3,>=1.21.1 in /home/trusted-service-user/cluster-env/trident_env/lib/python3.11/site-packages (from requests>=2.0.0->twilio) (2.1.0)\n",
      "Requirement already satisfied: certifi>=2017.4.17 in /home/trusted-service-user/cluster-env/trident_env/lib/python3.11/site-packages (from requests>=2.0.0->twilio) (2024.2.2)\n",
      "Downloading twilio-9.3.6-py2.py3-none-any.whl (1.8 MB)\n",
      "\u001b[2K   \u001b[90m━━━━━━━━━━━━━━━━━━━━━━━━━━━━━━━━━━━━━━━━\u001b[0m \u001b[32m1.8/1.8 MB\u001b[0m \u001b[31m6.4 MB/s\u001b[0m eta \u001b[36m0:00:00\u001b[0ma \u001b[36m0:00:01\u001b[0m0m\n",
      "\u001b[?25hDownloading aiohttp_retry-2.9.1-py3-none-any.whl (10.0 kB)\n",
      "Installing collected packages: aiohttp-retry, twilio\n",
      "Successfully installed aiohttp-retry-2.9.1 twilio-9.3.6\n"
     ]
    }
   ],
   "source": [
    "!pip install twilio"
   ]
  },
  {
   "cell_type": "code",
   "execution_count": 2,
   "id": "39815a47-d430-42d5-87d5-52aa90f09747",
   "metadata": {
    "microsoft": {
     "language": "python",
     "language_group": "synapse_pyspark"
    }
   },
   "outputs": [
    {
     "data": {
      "application/vnd.livy.statement-meta+json": {
       "execution_finish_time": "2024-11-11T07:16:22.4663874Z",
       "execution_start_time": "2024-11-11T07:16:22.1729787Z",
       "livy_statement_state": "available",
       "normalized_state": "finished",
       "parent_msg_id": "f24135f9-3fb4-496e-a8c5-7b239e12c1d3",
       "queued_time": "2024-11-11T07:15:52.5741604Z",
       "session_id": "96047386-8225-45d1-b92a-120e3cdd76fe",
       "session_start_time": null,
       "spark_pool": null,
       "state": "finished",
       "statement_id": 4,
       "statement_ids": [
        4
       ]
      },
      "text/plain": [
       "StatementMeta(, 96047386-8225-45d1-b92a-120e3cdd76fe, 4, Finished, Available, Finished)"
      ]
     },
     "metadata": {},
     "output_type": "display_data"
    }
   ],
   "source": [
    "from twilio.rest import Client\n",
    "import http.client\n",
    "import json\n",
    "from datetime import datetime\n",
    "import requests"
   ]
  },
  {
   "cell_type": "code",
   "execution_count": null,
   "id": "a59b77c6-5424-4e3b-bc80-d6c351916a68",
   "metadata": {
    "jupyter": {
     "outputs_hidden": false,
     "source_hidden": false
    },
    "microsoft": {
     "language": "python",
     "language_group": "synapse_pyspark"
    },
    "nteract": {
     "transient": {
      "deleting": false
     }
    }
   },
   "outputs": [
    {
     "data": {
      "application/vnd.livy.statement-meta+json": {
       "execution_finish_time": "2024-11-11T07:16:23.2812516Z",
       "execution_start_time": "2024-11-11T07:16:23.0016729Z",
       "livy_statement_state": "available",
       "normalized_state": "finished",
       "parent_msg_id": "0ca36e1d-2a70-4be4-8a56-1e8702a4247e",
       "queued_time": "2024-11-11T07:15:52.5748978Z",
       "session_id": "96047386-8225-45d1-b92a-120e3cdd76fe",
       "session_start_time": null,
       "spark_pool": null,
       "state": "finished",
       "statement_id": 5,
       "statement_ids": [
        5
       ]
      },
      "text/plain": [
       "StatementMeta(, 96047386-8225-45d1-b92a-120e3cdd76fe, 5, Finished, Available, Finished)"
      ]
     },
     "metadata": {},
     "output_type": "display_data"
    }
   ],
   "source": [
    "def send_sos_message():\n",
    "    account_sid = '<account_sid>'\n",
    "    auth_token = '<auth_token>'\n",
    "    client = Client(account_sid, auth_token)\n",
    "    message = client.messages.create(\n",
    "    messaging_service_sid='<messaging_service_sid>',\n",
    "    body='There is an emergency.............. 👋',\n",
    "    to='<phone_number>'\n",
    "    )\n",
    "    if message.sid :\n",
    "        print(\"Message has been send\")"
   ]
  },
  {
   "cell_type": "code",
   "execution_count": null,
   "id": "a2d1dbb5-3aa8-44be-b082-38b40d6187c5",
   "metadata": {
    "jupyter": {
     "outputs_hidden": false,
     "source_hidden": false
    },
    "microsoft": {
     "language": "python",
     "language_group": "synapse_pyspark"
    },
    "nteract": {
     "transient": {
      "deleting": false
     }
    },
    "tags": [
     "parameters"
    ]
   },
   "outputs": [
    {
     "data": {
      "application/vnd.livy.statement-meta+json": {
       "execution_finish_time": "2024-11-11T07:16:24.2179794Z",
       "execution_start_time": "2024-11-11T07:16:23.9120751Z",
       "livy_statement_state": "available",
       "normalized_state": "finished",
       "parent_msg_id": "4b7113b0-da04-4de5-9e2d-81bb6b834350",
       "queued_time": "2024-11-11T07:15:52.5756427Z",
       "session_id": "96047386-8225-45d1-b92a-120e3cdd76fe",
       "session_start_time": null,
       "spark_pool": null,
       "state": "finished",
       "statement_id": 6,
       "statement_ids": [
        6
       ]
      },
      "text/plain": [
       "StatementMeta(, 96047386-8225-45d1-b92a-120e3cdd76fe, 6, Finished, Available, Finished)"
      ]
     },
     "metadata": {},
     "output_type": "display_data"
    }
   ],
   "source": [
    "\n",
    "def get_nearest_help_location(lat, long, type, radius): \n",
    "    url = \"https://google-map-places.p.rapidapi.com/maps/api/place/nearbysearch/json\"\n",
    "    querystring = {\"location\":f\"{lat},{long}\",\"radius\":f\"{radius}\",\"language\":\"en\",\"opennow\":\"true\",\"type\" : type,\"rankby\":\"prominence\"}\n",
    "    headers = {\"x-rapidapi-key\": \"<token_key>\",\"x-rapidapi-host\": \"google-map-places.p.rapidapi.com\"}\n",
    "    response = requests.get(url, headers=headers, params=querystring)\n",
    "    places = response.json()\n",
    "\n",
    "    results = []  # Initialize the results list\n",
    "\n",
    "    for place in places.get('results', []):\n",
    "        name = place.get('name')\n",
    "        address = place.get('vicinity')\n",
    "        if name and address:\n",
    "            results.append({'name': name, 'address': address})\n",
    "\n",
    "    try :\n",
    "        if results[0] :\n",
    "            return f\"Name: {results[0]['name']}, Address: {results[0]['address']}\"      \n",
    "    except : \n",
    "        get_nearest_help_location(latitude, longitude, type, radius = 10000)\n",
    "\n",
    "# get_nearest_help_location(18.4758, 73.84389, \"police\", radius=2000)\n"
   ]
  },
  {
   "cell_type": "code",
   "execution_count": null,
   "id": "b500e2aa-1b85-46e6-821d-7dafd602632e",
   "metadata": {
    "jupyter": {
     "outputs_hidden": false,
     "source_hidden": false
    },
    "microsoft": {
     "language": "python",
     "language_group": "synapse_pyspark"
    },
    "nteract": {
     "transient": {
      "deleting": false
     }
    }
   },
   "outputs": [
    {
     "data": {
      "application/vnd.livy.statement-meta+json": {
       "execution_finish_time": "2024-11-11T07:22:32.6344954Z",
       "execution_start_time": "2024-11-11T07:21:58.2757832Z",
       "livy_statement_state": "available",
       "normalized_state": "finished",
       "parent_msg_id": "50a32a1d-14f7-42e5-ba13-df4cbb53a864",
       "queued_time": "2024-11-11T07:21:57.6390138Z",
       "session_id": "96047386-8225-45d1-b92a-120e3cdd76fe",
       "session_start_time": null,
       "spark_pool": null,
       "state": "finished",
       "statement_id": 12,
       "statement_ids": [
        12
       ]
      },
      "text/plain": [
       "StatementMeta(, 96047386-8225-45d1-b92a-120e3cdd76fe, 12, Finished, Available, Finished)"
      ]
     },
     "metadata": {},
     "output_type": "display_data"
    },
    {
     "name": "stdout",
     "output_type": "stream",
     "text": [
      "Name: SAMARTH MEDICO & SUPER SHOPEE, Address: venkateshwara tower,shop no 10,bharati vidyapeeth, Pune Name: Kondhwa Police Station, Address: FV8R+C6H, Katraj - Kondhwa Road, Kondhwa Budruk, Pune\n",
      "SENT\n"
     ]
    }
   ],
   "source": [
    "\n",
    "# Example of query for reading data from Kusto. Replace T with your <tablename>.\n",
    "kustoQuery = f\"panic_logs | where user_id == 1 | sort by session_id desc | top 1 by session_id\"\n",
    "    # The query URI for reading the data e.g. https://<>.kusto.data.microsoft.com.\n",
    "kustoUri = \"https://<cluster_id>.kusto.fabric.microsoft.com\"\n",
    "    # The database with data to be read.\n",
    "database = \"KQL_DB\"\n",
    "    # The access credentials.\n",
    "accessToken = mssparkutils.credentials.getToken(kustoUri)\n",
    "kustoDf  = spark.read\\\n",
    "        .format(\"com.microsoft.kusto.spark.synapse.datasource\")\\\n",
    "        .option(\"accessToken\", accessToken)\\\n",
    "        .option(\"kustoCluster\", kustoUri)\\\n",
    "        .option(\"kustoDatabase\", database)\\\n",
    "        .option(\"kustoQuery\", kustoQuery).load()\n",
    "\n",
    "# calling all the alerts \n",
    "# send_sos_message()\n",
    "\n",
    "latitude = list(kustoDf.select(\"panic_latitude\").collect())[0][0]\n",
    "longitude = list(kustoDf.select(\"panic_longitude\").collect())[0][0]\n",
    "\n",
    "hospital = get_nearest_help_location(\n",
    "    lat = latitude,\n",
    "    long = longitude,\n",
    "    type = \"hospital\",\n",
    "    radius = 2000\n",
    ")\n",
    "\n",
    "police_station = get_nearest_help_location(\n",
    "    lat = latitude,\n",
    "    long = longitude,\n",
    "    type = \"police\",\n",
    "    radius = 2000\n",
    ")\n",
    "\n",
    "if hospital: \n",
    "    pass\n",
    "\n",
    "if not police_station: \n",
    "    police_station = get_nearest_help_location(\n",
    "        lat = latitude,\n",
    "        long = longitude,\n",
    "        type = \"police\",\n",
    "        radius = 10000\n",
    "    )\n",
    "\n",
    "print(hospital, police_station)\n",
    "currrent_timestamp = datetime.now()\n",
    "df = spark.createDataFrame(\n",
    "        [(1, 1, f\"SOS Message send at {currrent_timestamp}, Nearest hosiptal {hospital} and police station is {police_station}\", f\"{currrent_timestamp}\")], \n",
    "        [\"alert_id\", \"user_id\", \"alert_message\", \"alert_send_at\"]\n",
    "    )\n",
    "df.write.\\\n",
    "        format(\"com.microsoft.kusto.spark.synapse.datasource\").\\\n",
    "        option(\"kustoCluster\", kustoUri).\\\n",
    "        option(\"kustoDatabase\", database).\\\n",
    "        option(\"kustoTable\", \"alerts_logs\").\\\n",
    "        option(\"accessToken\", accessToken).\\\n",
    "        mode(\"Append\").save()\n",
    "print(\"SENT\")"
   ]
  }
 ],
 "metadata": {
  "dependencies": {
   "environment": {
    "environmentId": "5e7b11bd-9816-4e94-8594-c51f759fa8ed",
    "workspaceId": "8da952e4-df0c-417d-9265-5b09308bb541"
   }
  },
  "kernel_info": {
   "name": "synapse_pyspark"
  },
  "kernelspec": {
   "display_name": "Synapse PySpark",
   "language": "Python",
   "name": "synapse_pyspark"
  },
  "language_info": {
   "name": "python"
  },
  "microsoft": {
   "language": "python",
   "language_group": "synapse_pyspark",
   "ms_spell_check": {
    "ms_spell_check_language": "en"
   }
  },
  "nteract": {
   "version": "nteract-front-end@1.0.0"
  },
  "spark_compute": {
   "compute_id": "/trident/default",
   "session_options": {
    "conf": {
     "spark.synapse.nbs.session.timeout": "1200000"
    }
   }
  },
  "widgets": {}
 },
 "nbformat": 4,
 "nbformat_minor": 5
}
