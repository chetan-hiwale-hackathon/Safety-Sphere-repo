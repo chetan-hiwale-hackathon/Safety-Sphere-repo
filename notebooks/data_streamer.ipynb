{
 "cells": [
  {
   "cell_type": "markdown",
   "id": "94028c07",
   "metadata": {},
   "source": [
    "Pre-requisties\n",
    "\n",
    "1. Mount Lakehouse to the notebook \n",
    "2. Added the dataset.parquet file location as abfss path\n",
    "3. Add your eventstream connection details , i.e Eventhub name and connection string"
   ]
  },
  {
   "cell_type": "code",
   "execution_count": null,
   "id": "822058eb-7fb6-4ba5-b83b-16b1e20d5a17",
   "metadata": {
    "editable": true,
    "jupyter": {
     "outputs_hidden": false,
     "source_hidden": false
    },
    "microsoft": {
     "language": "python",
     "language_group": "synapse_pyspark"
    },
    "nteract": {
     "transient": {
      "deleting": false
     }
    },
    "run_control": {
     "frozen": false
    }
   },
   "outputs": [
    {
     "data": {
      "application/vnd.livy.statement-meta+json": {
       "execution_finish_time": "2024-11-12T18:51:10.9362997Z",
       "execution_start_time": "2024-11-12T18:51:07.2668587Z",
       "livy_statement_state": "available",
       "normalized_state": "finished",
       "parent_msg_id": "1473cd2c-0ed0-4c7e-9f13-c85e6d8b31dd",
       "queued_time": "2024-11-12T18:51:06.512815Z",
       "session_id": "196901ef-6aa1-4fa5-bd7b-05443c94b3b7",
       "session_start_time": null,
       "spark_pool": null,
       "state": "finished",
       "statement_id": 8,
       "statement_ids": [
        8
       ]
      },
      "text/plain": [
       "StatementMeta(, 196901ef-6aa1-4fa5-bd7b-05443c94b3b7, 8, Finished, Available, Finished)"
      ]
     },
     "metadata": {},
     "output_type": "display_data"
    },
    {
     "name": "stdout",
     "output_type": "stream",
     "text": [
      "Requirement already satisfied: psutil in /home/trusted-service-user/cluster-env/trident_env/lib/python3.11/site-packages (5.9.0)\r\n",
      "Requirement already satisfied: asyncio in /home/trusted-service-user/cluster-env/trident_env/lib/python3.11/site-packages (3.4.3)\r\n",
      "Requirement already satisfied: azure-eventhub in /home/trusted-service-user/cluster-env/trident_env/lib/python3.11/site-packages (5.12.2)\r\n",
      "Requirement already satisfied: azure-core>=1.27.0 in /home/trusted-service-user/cluster-env/trident_env/lib/python3.11/site-packages (from azure-eventhub) (1.30.2)\r\n",
      "Requirement already satisfied: typing-extensions>=4.0.1 in /home/trusted-service-user/cluster-env/trident_env/lib/python3.11/site-packages (from azure-eventhub) (4.9.0)\r\n",
      "Requirement already satisfied: requests>=2.21.0 in /home/trusted-service-user/cluster-env/trident_env/lib/python3.11/site-packages (from azure-core>=1.27.0->azure-eventhub) (2.31.0)\r\n",
      "Requirement already satisfied: six>=1.11.0 in /home/trusted-service-user/cluster-env/trident_env/lib/python3.11/site-packages (from azure-core>=1.27.0->azure-eventhub) (1.16.0)\r\n",
      "Requirement already satisfied: charset-normalizer<4,>=2 in /home/trusted-service-user/cluster-env/trident_env/lib/python3.11/site-packages (from requests>=2.21.0->azure-core>=1.27.0->azure-eventhub) (2.0.4)\r\n",
      "Requirement already satisfied: idna<4,>=2.5 in /home/trusted-service-user/cluster-env/trident_env/lib/python3.11/site-packages (from requests>=2.21.0->azure-core>=1.27.0->azure-eventhub) (3.4)\r\n",
      "Requirement already satisfied: urllib3<3,>=1.21.1 in /home/trusted-service-user/cluster-env/trident_env/lib/python3.11/site-packages (from requests>=2.21.0->azure-core>=1.27.0->azure-eventhub) (2.1.0)\r\n",
      "Requirement already satisfied: certifi>=2017.4.17 in /home/trusted-service-user/cluster-env/trident_env/lib/python3.11/site-packages (from requests>=2.21.0->azure-core>=1.27.0->azure-eventhub) (2024.2.2)\r\n"
     ]
    }
   ],
   "source": [
    "!pip install psutil asyncio azure-eventhub"
   ]
  },
  {
   "cell_type": "code",
   "execution_count": null,
   "id": "def09a77-2051-4f79-92cd-c1037872859a",
   "metadata": {
    "jupyter": {
     "outputs_hidden": false,
     "source_hidden": false
    },
    "microsoft": {
     "language": "python",
     "language_group": "synapse_pyspark"
    },
    "nteract": {
     "transient": {
      "deleting": false
     }
    }
   },
   "outputs": [
    {
     "data": {
      "application/vnd.livy.statement-meta+json": {
       "execution_finish_time": "2024-11-12T18:51:11.9620333Z",
       "execution_start_time": "2024-11-12T18:51:11.6629672Z",
       "livy_statement_state": "available",
       "normalized_state": "finished",
       "parent_msg_id": "b738bfbc-0c4b-4cd4-9032-7dc935e976f9",
       "queued_time": "2024-11-12T18:51:06.590082Z",
       "session_id": "196901ef-6aa1-4fa5-bd7b-05443c94b3b7",
       "session_start_time": null,
       "spark_pool": null,
       "state": "finished",
       "statement_id": 9,
       "statement_ids": [
        9
       ]
      },
      "text/plain": [
       "StatementMeta(, 196901ef-6aa1-4fa5-bd7b-05443c94b3b7, 9, Finished, Available, Finished)"
      ]
     },
     "metadata": {},
     "output_type": "display_data"
    }
   ],
   "source": [
    "import threading"
   ]
  },
  {
   "cell_type": "code",
   "execution_count": null,
   "id": "fa0e6fac-553f-4f3e-aba4-8c20da9c69bc",
   "metadata": {
    "jupyter": {
     "outputs_hidden": false,
     "source_hidden": false
    },
    "microsoft": {
     "language": "python",
     "language_group": "synapse_pyspark"
    },
    "nteract": {
     "transient": {
      "deleting": false
     }
    }
   },
   "outputs": [
    {
     "data": {
      "application/vnd.livy.statement-meta+json": {
       "execution_finish_time": "2024-11-12T18:51:18.9231222Z",
       "execution_start_time": "2024-11-12T18:51:12.5067644Z",
       "livy_statement_state": "available",
       "normalized_state": "finished",
       "parent_msg_id": "8f311e0e-fd1b-4d89-8076-67dc31e5a0b7",
       "queued_time": "2024-11-12T18:51:06.6774818Z",
       "session_id": "196901ef-6aa1-4fa5-bd7b-05443c94b3b7",
       "session_start_time": null,
       "spark_pool": null,
       "state": "finished",
       "statement_id": 10,
       "statement_ids": [
        10
       ]
      },
      "text/plain": [
       "StatementMeta(, 196901ef-6aa1-4fa5-bd7b-05443c94b3b7, 10, Finished, Available, Finished)"
      ]
     },
     "metadata": {},
     "output_type": "display_data"
    },
    {
     "name": "stdout",
     "output_type": "stream",
     "text": [
      "DataFrame[latitude: double, longitude: double, Elevation: double, id: bigint, heart_rate: bigint, Systolic_BP: double, Diastolic_BP: double, stress: double] <class 'pyspark.sql.dataframe.DataFrame'>\n"
     ]
    }
   ],
   "source": [
    "df = spark.read.parquet(\"abfss://Hackathon@onelake.dfs.fabric.microsoft.com/hack_lakehouse.Lakehouse/Files/streaming_data.parquet\")\n",
    "print(df, type(df))"
   ]
  },
  {
   "cell_type": "code",
   "execution_count": null,
   "id": "c630e3dc-b28b-4db6-9509-7a1604fd99f4",
   "metadata": {
    "jupyter": {
     "outputs_hidden": false,
     "source_hidden": false
    },
    "microsoft": {
     "language": "python",
     "language_group": "synapse_pyspark"
    },
    "nteract": {
     "transient": {
      "deleting": false
     }
    }
   },
   "outputs": [
    {
     "data": {
      "application/vnd.livy.statement-meta+json": {
       "execution_finish_time": "2024-11-12T18:51:19.9971716Z",
       "execution_start_time": "2024-11-12T18:51:19.7173717Z",
       "livy_statement_state": "available",
       "normalized_state": "finished",
       "parent_msg_id": "a1222eb4-29b1-40b2-82c4-faf62862f781",
       "queued_time": "2024-11-12T18:51:06.7507494Z",
       "session_id": "196901ef-6aa1-4fa5-bd7b-05443c94b3b7",
       "session_start_time": null,
       "spark_pool": null,
       "state": "finished",
       "statement_id": 11,
       "statement_ids": [
        11
       ]
      },
      "text/plain": [
       "StatementMeta(, 196901ef-6aa1-4fa5-bd7b-05443c94b3b7, 11, Finished, Available, Finished)"
      ]
     },
     "metadata": {},
     "output_type": "display_data"
    }
   ],
   "source": [
    "def create_panic_session(id, user_id, lat, long, timestamp):\n",
    "    new_session_id = 1\n",
    "    # Example of query for reading data from Kusto. Replace T with your <tablename>.\n",
    "    kustoQuery = f\"panic_logs | where user_id == {user_id} | sort by session_id desc | top 1 by session_id\"\n",
    "    # The query URI for reading the data e.g. https://<>.kusto.data.microsoft.com.\n",
    "    kustoUri = \"https://trd-mwdyc69szk2uga2n12.z0.kusto.fabric.microsoft.com\"\n",
    "    # The database with data to be read.\n",
    "    database = \"KQL_DB\"\n",
    "    # The access credentials.\n",
    "    accessToken = mssparkutils.credentials.getToken(kustoUri)\n",
    "    kustoDf = spark.read \\\n",
    "        .format(\"com.microsoft.kusto.spark.synapse.datasource\") \\\n",
    "        .option(\"accessToken\", accessToken) \\\n",
    "        .option(\"kustoCluster\", kustoUri) \\\n",
    "        .option(\"kustoDatabase\", database) \\\n",
    "        .option(\"kustoQuery\", kustoQuery).load()\n",
    "\n",
    "    try:\n",
    "        session = list(kustoDf.select(\"session_id\").collect())[0][0]\n",
    "        new_session_id = session + 1\n",
    "    except IndexError:\n",
    "        new_session_id = 1\n",
    "\n",
    "    df = spark.createDataFrame(\n",
    "        [(new_session_id, id, user_id, float(lat), float(long), timestamp)],\n",
    "        [\"session_id\", \"stream_id\", \"user_id\", \"panic_latitude\", \"panic_longitude\", \"timestamp\"]\n",
    "    )\n",
    "\n",
    "    df.write \\\n",
    "        .format(\"com.microsoft.kusto.spark.synapse.datasource\") \\\n",
    "        .option(\"kustoCluster\", kustoUri) \\\n",
    "        .option(\"kustoDatabase\", database) \\\n",
    "        .option(\"kustoTable\", \"panic_logs\") \\\n",
    "        .option(\"accessToken\", accessToken) \\\n",
    "        .option(\"tableCreateOptions\", \"CreateIfNotExist\") \\\n",
    "        .mode(\"Append\").save()\n",
    "\n",
    "    return new_session_id\n"
   ]
  },
  {
   "cell_type": "code",
   "execution_count": null,
   "id": "e56d7849-27ff-40d5-ac39-ad4e1fb3b593",
   "metadata": {
    "jupyter": {
     "outputs_hidden": false,
     "source_hidden": false
    },
    "microsoft": {
     "language": "python",
     "language_group": "synapse_pyspark"
    },
    "nteract": {
     "transient": {
      "deleting": false
     }
    }
   },
   "outputs": [],
   "source": []
  },
  {
   "cell_type": "code",
   "execution_count": null,
   "id": "52c17485-efcd-4b45-8f77-ddddfcfa09f8",
   "metadata": {
    "microsoft": {
     "language": "python",
     "language_group": "synapse_pyspark"
    }
   },
   "outputs": [
    {
     "data": {
      "application/vnd.livy.statement-meta+json": {
       "execution_finish_time": null,
       "execution_start_time": "2024-11-12T18:51:20.5062815Z",
       "livy_statement_state": "running",
       "normalized_state": "running",
       "parent_msg_id": "8e5139c3-9c30-4a9b-a805-351428891224",
       "queued_time": "2024-11-12T18:51:06.9405109Z",
       "session_id": "196901ef-6aa1-4fa5-bd7b-05443c94b3b7",
       "session_start_time": null,
       "spark_pool": null,
       "state": "submitted",
       "statement_id": 12,
       "statement_ids": [
        12
       ]
      },
      "text/plain": [
       "StatementMeta(, 196901ef-6aa1-4fa5-bd7b-05443c94b3b7, 12, Submitted, Running, Running)"
      ]
     },
     "metadata": {},
     "output_type": "display_data"
    },
    {
     "name": "stdout",
     "output_type": "stream",
     "text": [
      "0 {\"id\": 0, \"user_id\": 1, \"user_latitude\": 18.39751, \"user_longitude\": 73.85768, \"user_heart_rate\": 93, \"user_dia_blood_pressure\": 83.89597865975807, \"user_sys_blood_pressure\": 123.13475246264036, \"user_stress\": null, \"user_is_panic\": false, \"timeStamp\": \"2024-11-12 18:51:23.214479\", \"panic_session_id\": -1}\n",
      "1 {\"id\": 1, \"user_id\": 1, \"user_latitude\": 18.39751, \"user_longitude\": 73.8577, \"user_heart_rate\": 91, \"user_dia_blood_pressure\": 71.86059947355578, \"user_sys_blood_pressure\": 125.31795505412154, \"user_stress\": 14.179369018078773, \"user_is_panic\": false, \"timeStamp\": \"2024-11-12 18:51:24.322154\", \"panic_session_id\": -1}\n",
      "2 {\"id\": 2, \"user_id\": 1, \"user_latitude\": 18.39749, \"user_longitude\": 73.85774, \"user_heart_rate\": 96, \"user_dia_blood_pressure\": 78.6253847942726, \"user_sys_blood_pressure\": 129.9532805894792, \"user_stress\": 26.271042896143932, \"user_is_panic\": false, \"timeStamp\": \"2024-11-12 18:51:25.451795\", \"panic_session_id\": -1}\n",
      "3 {\"id\": 3, \"user_id\": 1, \"user_latitude\": 18.39748, \"user_longitude\": 73.85779, \"user_heart_rate\": 98, \"user_dia_blood_pressure\": 89.00717237768994, \"user_sys_blood_pressure\": 127.745890370716, \"user_stress\": 22.67912415838045, \"user_is_panic\": false, \"timeStamp\": \"2024-11-12 18:51:26.555406\", \"panic_session_id\": -1}\n",
      "4 {\"id\": 4, \"user_id\": 1, \"user_latitude\": 18.39749, \"user_longitude\": 73.85784, \"user_heart_rate\": 100, \"user_dia_blood_pressure\": 91.2780627497016, \"user_sys_blood_pressure\": 117.53401770168117, \"user_stress\": 20.572831257537977, \"user_is_panic\": false, \"timeStamp\": \"2024-11-12 18:51:27.662796\", \"panic_session_id\": -1}\n",
      "5 {\"id\": 5, \"user_id\": 1, \"user_latitude\": 18.39753, \"user_longitude\": 73.85787, \"user_heart_rate\": 101, \"user_dia_blood_pressure\": 91.60277435684674, \"user_sys_blood_pressure\": 123.68393841662228, \"user_stress\": 18.591698155806938, \"user_is_panic\": false, \"timeStamp\": \"2024-11-12 18:51:28.764291\", \"panic_session_id\": -1}\n",
      "6 {\"id\": 6, \"user_id\": 1, \"user_latitude\": 18.39757, \"user_longitude\": 73.85789, \"user_heart_rate\": 104, \"user_dia_blood_pressure\": 84.43217325712459, \"user_sys_blood_pressure\": 118.17619317190426, \"user_stress\": 18.3571510760783, \"user_is_panic\": false, \"timeStamp\": \"2024-11-12 18:51:29.865802\", \"panic_session_id\": -1}\n",
      "7 {\"id\": 7, \"user_id\": 1, \"user_latitude\": 18.3976, \"user_longitude\": 73.85792, \"user_heart_rate\": 105, \"user_dia_blood_pressure\": 81.11725964697631, \"user_sys_blood_pressure\": 111.43175789210405, \"user_stress\": 17.12183052800858, \"user_is_panic\": false, \"timeStamp\": \"2024-11-12 18:51:30.967062\", \"panic_session_id\": -1}\n",
      "8 {\"id\": 8, \"user_id\": 1, \"user_latitude\": 18.39762, \"user_longitude\": 73.85796, \"user_heart_rate\": 102, \"user_dia_blood_pressure\": 83.83117976093897, \"user_sys_blood_pressure\": 131.22227003912377, \"user_stress\": 17.082759920298358, \"user_is_panic\": false, \"timeStamp\": \"2024-11-12 18:51:32.071757\", \"panic_session_id\": -1}\n",
      "9 {\"id\": 9, \"user_id\": 1, \"user_latitude\": 18.3976, \"user_longitude\": 73.85801, \"user_heart_rate\": 106, \"user_dia_blood_pressure\": 70.32220353406984, \"user_sys_blood_pressure\": 152.32721563204535, \"user_stress\": 17.724111277026886, \"user_is_panic\": false, \"timeStamp\": \"2024-11-12 18:51:33.169731\", \"panic_session_id\": -1}\n",
      "10 {\"id\": 10, \"user_id\": 1, \"user_latitude\": 18.3976, \"user_longitude\": 73.85806, \"user_heart_rate\": 109, \"user_dia_blood_pressure\": 65.67028821615547, \"user_sys_blood_pressure\": 128.82208808536552, \"user_stress\": 17.5214239064031, \"user_is_panic\": false, \"timeStamp\": \"2024-11-12 18:51:34.265925\", \"panic_session_id\": -1}\n",
      "11 {\"id\": 11, \"user_id\": 1, \"user_latitude\": 18.39763, \"user_longitude\": 73.85809, \"user_heart_rate\": 112, \"user_dia_blood_pressure\": 74.76736949897135, \"user_sys_blood_pressure\": 121.48935821383868, \"user_stress\": 17.56800120638207, \"user_is_panic\": false, \"timeStamp\": \"2024-11-12 18:51:35.369852\", \"panic_session_id\": -1}\n",
      "12 {\"id\": 12, \"user_id\": 1, \"user_latitude\": 18.39767, \"user_longitude\": 73.85809, \"user_heart_rate\": 111, \"user_dia_blood_pressure\": 85.15482396217855, \"user_sys_blood_pressure\": 120.04679712623437, \"user_stress\": 13.893734255307862, \"user_is_panic\": false, \"timeStamp\": \"2024-11-12 18:51:36.474285\", \"panic_session_id\": -1}\n",
      "13 {\"id\": 13, \"user_id\": 1, \"user_latitude\": 18.39772, \"user_longitude\": 73.85808, \"user_heart_rate\": 109, \"user_dia_blood_pressure\": 74.56824288000364, \"user_sys_blood_pressure\": 133.17871780207847, \"user_stress\": 13.660293129859271, \"user_is_panic\": false, \"timeStamp\": \"2024-11-12 18:51:37.583001\", \"panic_session_id\": -1}\n",
      "14 {\"id\": 14, \"user_id\": 1, \"user_latitude\": 18.39776, \"user_longitude\": 73.85806, \"user_heart_rate\": 110, \"user_dia_blood_pressure\": 80.68628265719806, \"user_sys_blood_pressure\": 135.71982523007952, \"user_stress\": 13.19522745811498, \"user_is_panic\": false, \"timeStamp\": \"2024-11-12 18:51:38.679088\", \"panic_session_id\": -1}\n",
      "15 {\"id\": 15, \"user_id\": 1, \"user_latitude\": 18.3978, \"user_longitude\": 73.85803, \"user_heart_rate\": 111, \"user_dia_blood_pressure\": 74.94465809907952, \"user_sys_blood_pressure\": 121.57764888922534, \"user_stress\": 13.15293527403724, \"user_is_panic\": false, \"timeStamp\": \"2024-11-12 18:51:39.794333\", \"panic_session_id\": -1}\n",
      "16 {\"id\": 16, \"user_id\": 1, \"user_latitude\": 18.39784, \"user_longitude\": 73.85801, \"user_heart_rate\": 112, \"user_dia_blood_pressure\": 71.66328602057442, \"user_sys_blood_pressure\": 96.72973918972149, \"user_stress\": 12.08153974740587, \"user_is_panic\": false, \"timeStamp\": \"2024-11-12 18:51:40.886666\", \"panic_session_id\": -1}\n",
      "17 {\"id\": 17, \"user_id\": 1, \"user_latitude\": 18.39789, \"user_longitude\": 73.85799, \"user_heart_rate\": 111, \"user_dia_blood_pressure\": 87.0246651178348, \"user_sys_blood_pressure\": 115.81485932261802, \"user_stress\": 12.052963003760846, \"user_is_panic\": false, \"timeStamp\": \"2024-11-12 18:51:41.999123\", \"panic_session_id\": -1}\n",
      "18 {\"id\": 18, \"user_id\": 1, \"user_latitude\": 18.39793, \"user_longitude\": 73.85799, \"user_heart_rate\": 106, \"user_dia_blood_pressure\": 71.75216518379273, \"user_sys_blood_pressure\": 129.65424536168308, \"user_stress\": 13.492146651861603, \"user_is_panic\": false, \"timeStamp\": \"2024-11-12 18:51:43.095127\", \"panic_session_id\": -1}\n",
      "19 {\"id\": 19, \"user_id\": 1, \"user_latitude\": 18.39798, \"user_longitude\": 73.85798, \"user_heart_rate\": 104, \"user_dia_blood_pressure\": 78.82955283694719, \"user_sys_blood_pressure\": 116.90323482670176, \"user_stress\": 12.025553084842656, \"user_is_panic\": false, \"timeStamp\": \"2024-11-12 18:51:44.187895\", \"panic_session_id\": -1}\n",
      "20 {\"id\": 20, \"user_id\": 1, \"user_latitude\": 18.39802, \"user_longitude\": 73.85796, \"user_heart_rate\": 98, \"user_dia_blood_pressure\": 77.8274452696121, \"user_sys_blood_pressure\": 119.71348736905284, \"user_stress\": 15.655875699671295, \"user_is_panic\": false, \"timeStamp\": \"2024-11-12 18:51:45.277734\", \"panic_session_id\": -1}\n",
      "21 {\"id\": 21, \"user_id\": 1, \"user_latitude\": 18.39805, \"user_longitude\": 73.85796, \"user_heart_rate\": 96, \"user_dia_blood_pressure\": 85.18852610286599, \"user_sys_blood_pressure\": 125.3178556402798, \"user_stress\": 15.48017717844563, \"user_is_panic\": false, \"timeStamp\": \"2024-11-12 18:51:46.372023\", \"panic_session_id\": -1}\n",
      "22 {\"id\": 22, \"user_id\": 1, \"user_latitude\": 18.39807, \"user_longitude\": 73.85795, \"user_heart_rate\": 95, \"user_dia_blood_pressure\": 71.29014391029423, \"user_sys_blood_pressure\": 116.98426953295242, \"user_stress\": 15.54460892910849, \"user_is_panic\": false, \"timeStamp\": \"2024-11-12 18:51:47.465703\", \"panic_session_id\": -1}\n",
      "23 {\"id\": 23, \"user_id\": 1, \"user_latitude\": 18.39811, \"user_longitude\": 73.85793, \"user_heart_rate\": 90, \"user_dia_blood_pressure\": 77.04778666400958, \"user_sys_blood_pressure\": 106.62526170247128, \"user_stress\": 18.839125554824406, \"user_is_panic\": false, \"timeStamp\": \"2024-11-12 18:51:48.559862\", \"panic_session_id\": -1}\n",
      "24 {\"id\": 24, \"user_id\": 1, \"user_latitude\": 18.39816, \"user_longitude\": 73.85792, \"user_heart_rate\": 87, \"user_dia_blood_pressure\": 72.60765317590398, \"user_sys_blood_pressure\": 125.96877558238792, \"user_stress\": 20.130961711706963, \"user_is_panic\": false, \"timeStamp\": \"2024-11-12 18:51:49.725594\", \"panic_session_id\": -1}\n",
      "25 {\"id\": 25, \"user_id\": 1, \"user_latitude\": 18.39821, \"user_longitude\": 73.85792, \"user_heart_rate\": 87, \"user_dia_blood_pressure\": 78.93911804185909, \"user_sys_blood_pressure\": 129.95927615324305, \"user_stress\": 20.070896218373637, \"user_is_panic\": false, \"timeStamp\": \"2024-11-12 18:51:50.824568\", \"panic_session_id\": -1}\n",
      "26 {\"id\": 26, \"user_id\": 1, \"user_latitude\": 18.39825, \"user_longitude\": 73.85792, \"user_heart_rate\": 88, \"user_dia_blood_pressure\": 78.69070910655306, \"user_sys_blood_pressure\": 100.27021927341949, \"user_stress\": 20.16565009126907, \"user_is_panic\": false, \"timeStamp\": \"2024-11-12 18:51:51.930467\", \"panic_session_id\": -1}\n",
      "27 {\"id\": 27, \"user_id\": 1, \"user_latitude\": 18.3983, \"user_longitude\": 73.85792, \"user_heart_rate\": 88, \"user_dia_blood_pressure\": 75.29173465856758, \"user_sys_blood_pressure\": 122.28420737820863, \"user_stress\": 20.107813656355223, \"user_is_panic\": false, \"timeStamp\": \"2024-11-12 18:51:53.037689\", \"panic_session_id\": -1}\n",
      "28 {\"id\": 28, \"user_id\": 1, \"user_latitude\": 18.39833, \"user_longitude\": 73.85795, \"user_heart_rate\": 91, \"user_dia_blood_pressure\": 87.71330123641368, \"user_sys_blood_pressure\": 124.04040003194685, \"user_stress\": 19.744299806561813, \"user_is_panic\": false, \"timeStamp\": \"2024-11-12 18:51:54.137600\", \"panic_session_id\": -1}\n",
      "29 {\"id\": 29, \"user_id\": 1, \"user_latitude\": 18.39837, \"user_longitude\": 73.85798, \"user_heart_rate\": 90, \"user_dia_blood_pressure\": 83.96236772483421, \"user_sys_blood_pressure\": 123.9683657860329, \"user_stress\": 19.579462407218763, \"user_is_panic\": false, \"timeStamp\": \"2024-11-12 18:51:55.233552\", \"panic_session_id\": -1}\n",
      "30 {\"id\": 30, \"user_id\": 1, \"user_latitude\": 18.39841, \"user_longitude\": 73.85801, \"user_heart_rate\": 90, \"user_dia_blood_pressure\": 91.64932301416768, \"user_sys_blood_pressure\": 107.76918289942088, \"user_stress\": 16.0808035876637, \"user_is_panic\": false, \"timeStamp\": \"2024-11-12 18:51:56.333531\", \"panic_session_id\": -1}\n",
      "31 {\"id\": 31, \"user_id\": 1, \"user_latitude\": 18.39846, \"user_longitude\": 73.85801, \"user_heart_rate\": 90, \"user_dia_blood_pressure\": 83.91056091183707, \"user_sys_blood_pressure\": 113.90777077904592, \"user_stress\": 15.56672673421917, \"user_is_panic\": false, \"timeStamp\": \"2024-11-12 18:51:57.451063\", \"panic_session_id\": -1}\n",
      "32 {\"id\": 32, \"user_id\": 1, \"user_latitude\": 18.3985, \"user_longitude\": 73.85801, \"user_heart_rate\": 91, \"user_dia_blood_pressure\": 78.55368857133656, \"user_sys_blood_pressure\": 124.83607857087652, \"user_stress\": 15.600056560932067, \"user_is_panic\": false, \"timeStamp\": \"2024-11-12 18:51:58.549102\", \"panic_session_id\": -1}\n",
      "33 {\"id\": 33, \"user_id\": 1, \"user_latitude\": 18.39855, \"user_longitude\": 73.85801, \"user_heart_rate\": 94, \"user_dia_blood_pressure\": 80.52538136287754, \"user_sys_blood_pressure\": 144.98295702602104, \"user_stress\": 12.826801963964089, \"user_is_panic\": false, \"timeStamp\": \"2024-11-12 18:51:59.654840\", \"panic_session_id\": -1}\n",
      "34 {\"id\": 34, \"user_id\": 1, \"user_latitude\": 18.39859, \"user_longitude\": 73.85802, \"user_heart_rate\": 95, \"user_dia_blood_pressure\": 86.05468428066217, \"user_sys_blood_pressure\": 123.9432763366516, \"user_stress\": 10.779336911523302, \"user_is_panic\": false, \"timeStamp\": \"2024-11-12 18:52:00.754218\", \"panic_session_id\": -1}\n",
      "35 {\"id\": 35, \"user_id\": 1, \"user_latitude\": 18.39864, \"user_longitude\": 73.85801, \"user_heart_rate\": 96, \"user_dia_blood_pressure\": 88.92768603922751, \"user_sys_blood_pressure\": 127.59340743544269, \"user_stress\": 10.978267581898983, \"user_is_panic\": false, \"timeStamp\": \"2024-11-12 18:52:01.858899\", \"panic_session_id\": -1}\n",
      "36 {\"id\": 36, \"user_id\": 1, \"user_latitude\": 18.39868, \"user_longitude\": 73.85799, \"user_heart_rate\": 96, \"user_dia_blood_pressure\": 71.54611569423054, \"user_sys_blood_pressure\": 119.67560754032198, \"user_stress\": 10.694882745509846, \"user_is_panic\": false, \"timeStamp\": \"2024-11-12 18:52:02.955490\", \"panic_session_id\": -1}\n",
      "37 {\"id\": 37, \"user_id\": 1, \"user_latitude\": 18.39871, \"user_longitude\": 73.85795, \"user_heart_rate\": 97, \"user_dia_blood_pressure\": 77.90473450487204, \"user_sys_blood_pressure\": 109.84021430110153, \"user_stress\": 10.887246075141725, \"user_is_panic\": false, \"timeStamp\": \"2024-11-12 18:52:04.051939\", \"panic_session_id\": -1}\n",
      "38 {\"id\": 38, \"user_id\": 1, \"user_latitude\": 18.39875, \"user_longitude\": 73.85792, \"user_heart_rate\": 99, \"user_dia_blood_pressure\": 78.47198201038493, \"user_sys_blood_pressure\": 116.8302590201252, \"user_stress\": 9.144586616062323, \"user_is_panic\": false, \"timeStamp\": \"2024-11-12 18:52:05.149419\", \"panic_session_id\": -1}\n",
      "39 {\"id\": 39, \"user_id\": 1, \"user_latitude\": 18.39879, \"user_longitude\": 73.85789, \"user_heart_rate\": 102, \"user_dia_blood_pressure\": 79.23288456347044, \"user_sys_blood_pressure\": 124.34612634148576, \"user_stress\": 10.489547208100761, \"user_is_panic\": false, \"timeStamp\": \"2024-11-12 18:52:06.249295\", \"panic_session_id\": -1}\n",
      "40 {\"id\": 40, \"user_id\": 1, \"user_latitude\": 18.39882, \"user_longitude\": 73.85786, \"user_heart_rate\": 104, \"user_dia_blood_pressure\": 72.563918789858, \"user_sys_blood_pressure\": 112.07900440335436, \"user_stress\": 11.082744534486363, \"user_is_panic\": false, \"timeStamp\": \"2024-11-12 18:52:07.347628\", \"panic_session_id\": -1}\n",
      "41 {\"id\": 41, \"user_id\": 1, \"user_latitude\": 18.39885, \"user_longitude\": 73.85783, \"user_heart_rate\": 106, \"user_dia_blood_pressure\": 91.11347352624684, \"user_sys_blood_pressure\": 141.0221097890321, \"user_stress\": 11.605011479807448, \"user_is_panic\": false, \"timeStamp\": \"2024-11-12 18:52:08.449748\", \"panic_session_id\": -1}\n",
      "42 {\"id\": 42, \"user_id\": 1, \"user_latitude\": 18.39889, \"user_longitude\": 73.8578, \"user_heart_rate\": 105, \"user_dia_blood_pressure\": 72.90751964097537, \"user_sys_blood_pressure\": 122.7010169825824, \"user_stress\": 11.498493985602105, \"user_is_panic\": false, \"timeStamp\": \"2024-11-12 18:52:09.540923\", \"panic_session_id\": -1}\n",
      "43 {\"id\": 43, \"user_id\": 1, \"user_latitude\": 18.39891, \"user_longitude\": 73.85776, \"user_heart_rate\": 107, \"user_dia_blood_pressure\": 70.04841470440455, \"user_sys_blood_pressure\": 124.82646759841192, \"user_stress\": 9.967128712486119, \"user_is_panic\": false, \"timeStamp\": \"2024-11-12 18:52:10.645156\", \"panic_session_id\": -1}\n",
      "44 {\"id\": 44, \"user_id\": 1, \"user_latitude\": 18.39895, \"user_longitude\": 73.85773, \"user_heart_rate\": 108, \"user_dia_blood_pressure\": 63.02792122278768, \"user_sys_blood_pressure\": 115.84522515859894, \"user_stress\": 9.875477610595635, \"user_is_panic\": false, \"timeStamp\": \"2024-11-12 18:52:11.745842\", \"panic_session_id\": -1}\n",
      "45 {\"id\": 45, \"user_id\": 1, \"user_latitude\": 18.39899, \"user_longitude\": 73.85772, \"user_heart_rate\": 107, \"user_dia_blood_pressure\": 87.48604303220746, \"user_sys_blood_pressure\": 145.32479489442628, \"user_stress\": 9.792476792608873, \"user_is_panic\": false, \"timeStamp\": \"2024-11-12 18:52:12.840823\", \"panic_session_id\": -1}\n",
      "46 {\"id\": 46, \"user_id\": 1, \"user_latitude\": 18.39902, \"user_longitude\": 73.8577, \"user_heart_rate\": 110, \"user_dia_blood_pressure\": 88.69398854815857, \"user_sys_blood_pressure\": 119.1629836933967, \"user_stress\": 10.921563434152771, \"user_is_panic\": false, \"timeStamp\": \"2024-11-12 18:52:13.948736\", \"panic_session_id\": -1}\n",
      "47 {\"id\": 47, \"user_id\": 1, \"user_latitude\": 18.39903, \"user_longitude\": 73.85769, \"user_heart_rate\": 109, \"user_dia_blood_pressure\": 78.2999410735583, \"user_sys_blood_pressure\": 135.54707980952475, \"user_stress\": 10.8458798428957, \"user_is_panic\": false, \"timeStamp\": \"2024-11-12 18:52:15.044282\", \"panic_session_id\": -1}\n",
      "48 {\"id\": 48, \"user_id\": 1, \"user_latitude\": 18.39906, \"user_longitude\": 73.85766, \"user_heart_rate\": 109, \"user_dia_blood_pressure\": 80.8432458801772, \"user_sys_blood_pressure\": 122.41086754201386, \"user_stress\": 10.100389626930294, \"user_is_panic\": false, \"timeStamp\": \"2024-11-12 18:52:16.142001\", \"panic_session_id\": -1}\n"
     ]
    }
   ],
   "source": [
    "import psutil\n",
    "import time\n",
    "import json\n",
    "import asyncio\n",
    "from azure.eventhub import EventData\n",
    "from azure.eventhub.aio import EventHubProducerClient\n",
    "from pytz import timezone \n",
    "from datetime import datetime\n",
    "\n",
    "EVENTSTREAM_CONNECTION_STR = \"Endpoint=sb://esehpnvpd2z3rh2cz9mhzx.servicebus.windows.net/;SharedAccessKeyName=key_d87b5db7-c82d-4ce3-a4aa-2f0edcb60065;SharedAccessKey=PCbbdouQb12uQKS6VQR9lxeEIgiy+zxmY+AEhG94ovM=;EntityPath=es_f45b1791-0674-4186-bbe3-58e46cb0375d\"\n",
    "EVENTSTREAM_NAME = \"es_f45b1791-0674-4186-bbe3-58e46cb0375d\"\n",
    "\n",
    "    # Create a producer client to send messages to the EventStream.\n",
    "    # Specify a connection string to your EventStream namespace and the eventstream name.\n",
    "producer = EventHubProducerClient.from_connection_string(\n",
    "        conn_str=EVENTSTREAM_CONNECTION_STR, eventhub_name=EVENTSTREAM_NAME\n",
    ")\n",
    "total_df_length = df.count()\n",
    "count = 0\n",
    "\n",
    "user_is_panic = False\n",
    "session_updated = False\n",
    "# ob = threading.Thread(target=create_panic_session, args = (id, user_id, lat, long, timestamp, ))\n",
    "while True:\n",
    "    event_data_batch = await producer.create_batch()\n",
    "    timestamp = datetime.now(timezone(\"Asia/Kolkata\")).strftime('%Y-%m-%d %H:%M:%S.%f')\n",
    "    row = df.collect()\n",
    "    if count >= 100 and count < 500 :\n",
    "        user_is_panic = True\n",
    "    else :\n",
    "        user_is_panic = False\n",
    "\n",
    "    user_data = {\n",
    "            \"id\" : row[count].__getitem__(\"id\"),\n",
    "            \"user_id\" : 1,\n",
    "            \"user_latitude\" : row[count].__getitem__(\"latitude\"),\n",
    "            \"user_longitude\" : row[count].__getitem__(\"longitude\"),\n",
    "            \"user_heart_rate\" : row[count].__getitem__(\"heart_rate\"),\n",
    "            \"user_dia_blood_pressure\" : row[count].__getitem__(\"Diastolic_BP\"),\n",
    "            \"user_sys_blood_pressure\" : row[count].__getitem__(\"Systolic_BP\"),\n",
    "            \"user_stress\" : row[count].__getitem__(\"stress\"),\n",
    "            \"user_is_panic\" : user_is_panic,\n",
    "            \"timeStamp\" : f'{datetime.now()}'\n",
    "    }\n",
    "\n",
    "            \n",
    "    if user_is_panic:\n",
    "        if not session_updated :\n",
    "            session_id = create_panic_session(\n",
    "                    user_data[\"id\"], \n",
    "                    user_data[\"user_id\"],\n",
    "                    user_data[\"user_latitude\"],\n",
    "                    user_data[\"user_longitude\"],\n",
    "                    user_data[\"timeStamp\"]\n",
    "        )\n",
    "        session_updated = True\n",
    "        user_data[\"panic_session_id\"] = session_id\n",
    "        \n",
    "    else :\n",
    "        user_data[\"panic_session_id\"] = -1\n",
    "\n",
    "    json_data = json.dumps(user_data)\n",
    "    print(count,json_data)\n",
    "    event_data_batch.add(EventData(json_data))\n",
    "    # Send the batch of events to the event hub.\n",
    "    await producer.send_event(event_data_batch)\n",
    "    time.sleep(1)\n",
    "    count += 1\n",
    "    if count == total_df_length:\n",
    "            break"
   ]
  },
  {
   "cell_type": "code",
   "execution_count": null,
   "id": "1638999c-f92a-4e2a-81d1-85087368dca1",
   "metadata": {
    "editable": false,
    "jupyter": {
     "outputs_hidden": false,
     "source_hidden": false
    },
    "microsoft": {
     "language": "python",
     "language_group": "synapse_pyspark"
    },
    "nteract": {
     "transient": {
      "deleting": false
     }
    },
    "run_control": {
     "frozen": true
    }
   },
   "outputs": [],
   "source": [
    "def create_panic_session(id, user_id, lat, long, timestamp):\n",
    "    new_session_id = 1\n",
    "    # Example of query for reading data from Kusto. Replace T with your <tablename>.\n",
    "    kustoQuery = f\"panic_logs | where user_id == {user_id} | sort by session_id desc | top 1 by session_id\"\n",
    "    # The query URI for reading the data e.g. https://<>.kusto.data.microsoft.com.\n",
    "    kustoUri = \"https://trd-mwdyc69szk2uga2n12.z0.kusto.fabric.microsoft.com\"\n",
    "    # The database with data to be read.\n",
    "    database = \"KQL_DB\"\n",
    "    # The access credentials.\n",
    "    accessToken = mssparkutils.credentials.getToken(kustoUri)\n",
    "    kustoDf = spark.read \\\n",
    "        .format(\"com.microsoft.kusto.spark.synapse.datasource\") \\\n",
    "        .option(\"accessToken\", accessToken) \\\n",
    "        .option(\"kustoCluster\", kustoUri) \\\n",
    "        .option(\"kustoDatabase\", database) \\\n",
    "        .option(\"kustoQuery\", kustoQuery).load()\n",
    "\n",
    "    try:\n",
    "        session = list(kustoDf.select(\"session_id\").collect())[0][0]\n",
    "        new_session_id = session + 1\n",
    "    except IndexError:\n",
    "        new_session_id = 1\n",
    "\n",
    "    df = spark.createDataFrame(\n",
    "        [(new_session_id, id, user_id, float(lat), float(long), timestamp)],\n",
    "        [\"session_id\", \"stream_id\", \"user_id\", \"panic_latitude\", \"panic_longitude\", \"timestamp\"]\n",
    "    )\n",
    "\n",
    "    df.write \\\n",
    "        .format(\"com.microsoft.kusto.spark.synapse.datasource\") \\\n",
    "        .option(\"kustoCluster\", kustoUri) \\\n",
    "        .option(\"kustoDatabase\", database) \\\n",
    "        .option(\"kustoTable\", \"panic_logs\") \\\n",
    "        .option(\"accessToken\", accessToken) \\\n",
    "        .option(\"tableCreateOptions\", \"CreateIfNotExist\") \\\n",
    "        .mode(\"Append\").save()\n",
    "\n",
    "    return new_session_id\n",
    "\n",
    "# Example usage\n",
    "create_panic_session(0, 0, 1, 1, 1)\n"
   ]
  }
 ],
 "metadata": {
  "dependencies": {
   "environment": {
    "environmentId": "5e7b11bd-9816-4e94-8594-c51f759fa8ed",
    "workspaceId": "8da952e4-df0c-417d-9265-5b09308bb541"
   },
   "lakehouse": {
    "default_lakehouse": "fd56ba4d-3039-4a91-a890-7cff45c80a9f",
    "default_lakehouse_name": "hack_lakehouse",
    "default_lakehouse_workspace_id": "8da952e4-df0c-417d-9265-5b09308bb541"
   }
  },
  "kernel_info": {
   "name": "synapse_pyspark"
  },
  "kernelspec": {
   "display_name": "Synapse PySpark",
   "language": "Python",
   "name": "synapse_pyspark"
  },
  "language_info": {
   "name": "python"
  },
  "microsoft": {
   "language": "python",
   "language_group": "synapse_pyspark",
   "ms_spell_check": {
    "ms_spell_check_language": "en"
   }
  },
  "nteract": {
   "version": "nteract-front-end@1.0.0"
  },
  "spark_compute": {
   "compute_id": "/trident/default",
   "session_options": {
    "conf": {
     "spark.synapse.nbs.session.timeout": "1200000"
    }
   }
  },
  "widgets": {}
 },
 "nbformat": 4,
 "nbformat_minor": 5
}
